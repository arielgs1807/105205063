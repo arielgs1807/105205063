{
  "nbformat": 4,
  "nbformat_minor": 0,
  "metadata": {
    "colab": {
      "name": "Untitled0.ipynb",
      "provenance": [],
      "include_colab_link": true
    },
    "kernelspec": {
      "name": "python3",
      "display_name": "Python 3"
    }
  },
  "cells": [
    {
      "cell_type": "markdown",
      "metadata": {
        "id": "view-in-github",
        "colab_type": "text"
      },
      "source": [
        "<a href=\"https://colab.research.google.com/github/arielgs1807/105205063/blob/master/Untitled0.ipynb\" target=\"_parent\"><img src=\"https://colab.research.google.com/assets/colab-badge.svg\" alt=\"Open In Colab\"/></a>"
      ]
    },
    {
      "cell_type": "code",
      "metadata": {
        "id": "wzTWP05NKgV8",
        "colab_type": "code",
        "colab": {}
      },
      "source": [
        "%matplotlib inline\n",
        "\n",
        "import numpy as np\n",
        "import matplotlib.pyplot as plt\n",
        "import pandas as pd"
      ],
      "execution_count": 0,
      "outputs": []
    },
    {
      "cell_type": "code",
      "metadata": {
        "id": "fsS47eWzb0lM",
        "colab_type": "code",
        "colab": {}
      },
      "source": [
        "from keras.datasets import imdb"
      ],
      "execution_count": 0,
      "outputs": []
    },
    {
      "cell_type": "code",
      "metadata": {
        "id": "PoIq_m0KcCa9",
        "colab_type": "code",
        "colab": {
          "base_uri": "https://localhost:8080/",
          "height": 51
        },
        "outputId": "ffda8efe-e832-41dd-8b5d-4349dfb15038"
      },
      "source": [
        "(x_train, y_train),(x_test,y_test)=imdb.load_data(num_words=10000)"
      ],
      "execution_count": 4,
      "outputs": [
        {
          "output_type": "stream",
          "text": [
            "Downloading data from https://s3.amazonaws.com/text-datasets/imdb.npz\n",
            "17465344/17464789 [==============================] - 1s 0us/step\n"
          ],
          "name": "stdout"
        }
      ]
    },
    {
      "cell_type": "code",
      "metadata": {
        "id": "yg2RWqZfcVi3",
        "colab_type": "code",
        "colab": {
          "base_uri": "https://localhost:8080/",
          "height": 34
        },
        "outputId": "d0c4274e-3d51-4ecf-fb20-74729003289f"
      },
      "source": [
        "len(x_train)"
      ],
      "execution_count": 5,
      "outputs": [
        {
          "output_type": "execute_result",
          "data": {
            "text/plain": [
              "25000"
            ]
          },
          "metadata": {
            "tags": []
          },
          "execution_count": 5
        }
      ]
    },
    {
      "cell_type": "code",
      "metadata": {
        "id": "Hl1eZZOTccum",
        "colab_type": "code",
        "colab": {
          "base_uri": "https://localhost:8080/",
          "height": 34
        },
        "outputId": "06ff7646-44df-4a66-af06-ea879afc9894"
      },
      "source": [
        "len(x_test)"
      ],
      "execution_count": 6,
      "outputs": [
        {
          "output_type": "execute_result",
          "data": {
            "text/plain": [
              "25000"
            ]
          },
          "metadata": {
            "tags": []
          },
          "execution_count": 6
        }
      ]
    },
    {
      "cell_type": "code",
      "metadata": {
        "id": "XrcHl_ulcgcu",
        "colab_type": "code",
        "colab": {
          "base_uri": "https://localhost:8080/",
          "height": 1000
        },
        "outputId": "3ac8091c-c40b-44d0-f7cd-b8b1899e2887"
      },
      "source": [
        "x_train[999]"
      ],
      "execution_count": 7,
      "outputs": [
        {
          "output_type": "execute_result",
          "data": {
            "text/plain": [
              "[1,\n",
              " 2,\n",
              " 47,\n",
              " 1678,\n",
              " 72,\n",
              " 19,\n",
              " 61,\n",
              " 205,\n",
              " 2,\n",
              " 5,\n",
              " 2,\n",
              " 146,\n",
              " 6,\n",
              " 655,\n",
              " 2212,\n",
              " 1021,\n",
              " 336,\n",
              " 7,\n",
              " 107,\n",
              " 146,\n",
              " 179,\n",
              " 2,\n",
              " 11,\n",
              " 61,\n",
              " 965,\n",
              " 5,\n",
              " 1624,\n",
              " 113,\n",
              " 131,\n",
              " 13,\n",
              " 28,\n",
              " 1460,\n",
              " 39,\n",
              " 61,\n",
              " 501,\n",
              " 15,\n",
              " 13,\n",
              " 361,\n",
              " 2,\n",
              " 8,\n",
              " 2,\n",
              " 5,\n",
              " 1341,\n",
              " 39,\n",
              " 63,\n",
              " 13,\n",
              " 244,\n",
              " 1364,\n",
              " 9026,\n",
              " 54,\n",
              " 134,\n",
              " 2,\n",
              " 5,\n",
              " 68,\n",
              " 2166,\n",
              " 1497,\n",
              " 68,\n",
              " 456,\n",
              " 19,\n",
              " 72,\n",
              " 36,\n",
              " 339,\n",
              " 72,\n",
              " 8,\n",
              " 4392,\n",
              " 61,\n",
              " 113,\n",
              " 5,\n",
              " 61,\n",
              " 649,\n",
              " 19,\n",
              " 61,\n",
              " 223,\n",
              " 10,\n",
              " 10,\n",
              " 4,\n",
              " 123,\n",
              " 1025,\n",
              " 111,\n",
              " 409,\n",
              " 2,\n",
              " 83,\n",
              " 4,\n",
              " 501,\n",
              " 7,\n",
              " 4,\n",
              " 6176,\n",
              " 5,\n",
              " 2672,\n",
              " 687,\n",
              " 15,\n",
              " 242,\n",
              " 2164,\n",
              " 68,\n",
              " 6644,\n",
              " 111,\n",
              " 7,\n",
              " 178,\n",
              " 2712,\n",
              " 88,\n",
              " 45,\n",
              " 99,\n",
              " 629,\n",
              " 8,\n",
              " 140,\n",
              " 145,\n",
              " 5,\n",
              " 81,\n",
              " 17,\n",
              " 2676,\n",
              " 3088,\n",
              " 560,\n",
              " 4,\n",
              " 3808,\n",
              " 5,\n",
              " 921,\n",
              " 5607,\n",
              " 7,\n",
              " 4,\n",
              " 882,\n",
              " 11,\n",
              " 4,\n",
              " 2267,\n",
              " 5,\n",
              " 955,\n",
              " 479,\n",
              " 7,\n",
              " 263,\n",
              " 1548,\n",
              " 4,\n",
              " 123,\n",
              " 1015,\n",
              " 6,\n",
              " 176,\n",
              " 7,\n",
              " 1109,\n",
              " 18,\n",
              " 33,\n",
              " 222,\n",
              " 397,\n",
              " 14,\n",
              " 1773,\n",
              " 645,\n",
              " 14,\n",
              " 7847,\n",
              " 9,\n",
              " 1350,\n",
              " 5,\n",
              " 878,\n",
              " 21,\n",
              " 290,\n",
              " 12,\n",
              " 38,\n",
              " 76,\n",
              " 9029,\n",
              " 7,\n",
              " 6644,\n",
              " 2615,\n",
              " 5,\n",
              " 701,\n",
              " 2615,\n",
              " 186,\n",
              " 8,\n",
              " 2754,\n",
              " 4,\n",
              " 5029,\n",
              " 1341,\n",
              " 400,\n",
              " 45,\n",
              " 5015,\n",
              " 15,\n",
              " 4,\n",
              " 6176,\n",
              " 43,\n",
              " 31,\n",
              " 251,\n",
              " 645,\n",
              " 8,\n",
              " 1258,\n",
              " 56,\n",
              " 42,\n",
              " 845,\n",
              " 18,\n",
              " 253,\n",
              " 42,\n",
              " 1742,\n",
              " 42,\n",
              " 532,\n",
              " 602,\n",
              " 5,\n",
              " 150,\n",
              " 36,\n",
              " 191,\n",
              " 570,\n",
              " 24,\n",
              " 38,\n",
              " 2,\n",
              " 26,\n",
              " 44,\n",
              " 880,\n",
              " 1460,\n",
              " 13,\n",
              " 70,\n",
              " 2198,\n",
              " 8,\n",
              " 4,\n",
              " 275,\n",
              " 687,\n",
              " 5,\n",
              " 2,\n",
              " 11,\n",
              " 2851,\n",
              " 456,\n",
              " 50,\n",
              " 26,\n",
              " 1141,\n",
              " 1326,\n",
              " 5,\n",
              " 1767,\n",
              " 5630,\n",
              " 111,\n",
              " 2,\n",
              " 28,\n",
              " 3117,\n",
              " 4309,\n",
              " 2569,\n",
              " 49,\n",
              " 362,\n",
              " 331,\n",
              " 8261,\n",
              " 913,\n",
              " 8,\n",
              " 4313,\n",
              " 8,\n",
              " 148,\n",
              " 37,\n",
              " 104,\n",
              " 15,\n",
              " 6644,\n",
              " 9,\n",
              " 35,\n",
              " 120,\n",
              " 2097,\n",
              " 8,\n",
              " 6,\n",
              " 2,\n",
              " 13,\n",
              " 62,\n",
              " 43,\n",
              " 135,\n",
              " 15,\n",
              " 275,\n",
              " 84,\n",
              " 8261,\n",
              " 5897,\n",
              " 261,\n",
              " 49,\n",
              " 362,\n",
              " 2885,\n",
              " 4313,\n",
              " 73,\n",
              " 409,\n",
              " 40,\n",
              " 2,\n",
              " 11,\n",
              " 4,\n",
              " 123,\n",
              " 8307,\n",
              " 11,\n",
              " 6,\n",
              " 7961,\n",
              " 23,\n",
              " 4,\n",
              " 1873,\n",
              " 5,\n",
              " 28,\n",
              " 68,\n",
              " 456,\n",
              " 1437,\n",
              " 1194,\n",
              " 34,\n",
              " 4,\n",
              " 1494,\n",
              " 10,\n",
              " 10,\n",
              " 18,\n",
              " 463,\n",
              " 236,\n",
              " 2,\n",
              " 2,\n",
              " 301,\n",
              " 15,\n",
              " 184,\n",
              " 185,\n",
              " 2,\n",
              " 4846,\n",
              " 2,\n",
              " 39,\n",
              " 349,\n",
              " 59,\n",
              " 2,\n",
              " 18,\n",
              " 2208,\n",
              " 18,\n",
              " 6,\n",
              " 5451,\n",
              " 291,\n",
              " 154,\n",
              " 3608,\n",
              " 5,\n",
              " 1625,\n",
              " 349,\n",
              " 2569,\n",
              " 41,\n",
              " 481,\n",
              " 1081,\n",
              " 8,\n",
              " 259,\n",
              " 4,\n",
              " 201,\n",
              " 9,\n",
              " 1061,\n",
              " 19,\n",
              " 1618,\n",
              " 15,\n",
              " 75,\n",
              " 70,\n",
              " 361,\n",
              " 8,\n",
              " 391,\n",
              " 263,\n",
              " 205,\n",
              " 4484,\n",
              " 5,\n",
              " 97,\n",
              " 2,\n",
              " 8,\n",
              " 263,\n",
              " 456,\n",
              " 400,\n",
              " 45,\n",
              " 148,\n",
              " 7,\n",
              " 178,\n",
              " 19,\n",
              " 4139,\n",
              " 1341,\n",
              " 37,\n",
              " 2712,\n",
              " 4,\n",
              " 6309,\n",
              " 17,\n",
              " 36,\n",
              " 135,\n",
              " 60,\n",
              " 6,\n",
              " 2230,\n",
              " 106,\n",
              " 9,\n",
              " 208,\n",
              " 1453,\n",
              " 6,\n",
              " 251,\n",
              " 21,\n",
              " 6,\n",
              " 550,\n",
              " 106,\n",
              " 70,\n",
              " 140,\n",
              " 2,\n",
              " 18,\n",
              " 179,\n",
              " 6,\n",
              " 137,\n",
              " 366,\n",
              " 45,\n",
              " 93,\n",
              " 129,\n",
              " 113,\n",
              " 4309,\n",
              " 10,\n",
              " 10,\n",
              " 8,\n",
              " 4,\n",
              " 1180,\n",
              " 1294,\n",
              " 25,\n",
              " 18,\n",
              " 231,\n",
              " 4,\n",
              " 123,\n",
              " 18,\n",
              " 7847,\n",
              " 83,\n",
              " 4,\n",
              " 501,\n",
              " 18,\n",
              " 4,\n",
              " 794,\n",
              " 1969,\n",
              " 82,\n",
              " 4,\n",
              " 2876,\n",
              " 4,\n",
              " 2718,\n",
              " 5,\n",
              " 4,\n",
              " 756,\n",
              " 228,\n",
              " 26,\n",
              " 530,\n",
              " 10,\n",
              " 10,\n",
              " 8,\n",
              " 4,\n",
              " 2,\n",
              " 1294,\n",
              " 25,\n",
              " 18,\n",
              " 129,\n",
              " 3158,\n",
              " 8,\n",
              " 1497,\n",
              " 726,\n",
              " 42,\n",
              " 24,\n",
              " 25,\n",
              " 28,\n",
              " 1678,\n",
              " 624,\n",
              " 25,\n",
              " 28,\n",
              " 1678,\n",
              " 72]"
            ]
          },
          "metadata": {
            "tags": []
          },
          "execution_count": 7
        }
      ]
    },
    {
      "cell_type": "code",
      "metadata": {
        "id": "SZN5Hiviclol",
        "colab_type": "code",
        "colab": {
          "base_uri": "https://localhost:8080/",
          "height": 34
        },
        "outputId": "095518f8-a674-46ad-fb9a-2e317802c4c3"
      },
      "source": [
        "len(x_train[999])"
      ],
      "execution_count": 8,
      "outputs": [
        {
          "output_type": "execute_result",
          "data": {
            "text/plain": [
              "434"
            ]
          },
          "metadata": {
            "tags": []
          },
          "execution_count": 8
        }
      ]
    },
    {
      "cell_type": "code",
      "metadata": {
        "id": "A6Vb6nC9dDeL",
        "colab_type": "code",
        "colab": {
          "base_uri": "https://localhost:8080/",
          "height": 34
        },
        "outputId": "2c73b755-d674-41c9-b90f-676aa7a5f612"
      },
      "source": [
        "len(x_train[99])"
      ],
      "execution_count": 9,
      "outputs": [
        {
          "output_type": "execute_result",
          "data": {
            "text/plain": [
              "171"
            ]
          },
          "metadata": {
            "tags": []
          },
          "execution_count": 9
        }
      ]
    },
    {
      "cell_type": "code",
      "metadata": {
        "id": "1Dc-VauodHSz",
        "colab_type": "code",
        "colab": {
          "base_uri": "https://localhost:8080/",
          "height": 34
        },
        "outputId": "4a5271bb-1123-421c-d3cf-6c055d02fb31"
      },
      "source": [
        "y_train[999]"
      ],
      "execution_count": 10,
      "outputs": [
        {
          "output_type": "execute_result",
          "data": {
            "text/plain": [
              "1"
            ]
          },
          "metadata": {
            "tags": []
          },
          "execution_count": 10
        }
      ]
    },
    {
      "cell_type": "code",
      "metadata": {
        "id": "Nm1_KrYIdPIa",
        "colab_type": "code",
        "colab": {}
      },
      "source": [
        "###資料處理"
      ],
      "execution_count": 0,
      "outputs": []
    },
    {
      "cell_type": "code",
      "metadata": {
        "id": "q4Mec1h1dYYL",
        "colab_type": "code",
        "colab": {}
      },
      "source": [
        "from keras.preprocessing import sequence"
      ],
      "execution_count": 0,
      "outputs": []
    },
    {
      "cell_type": "code",
      "metadata": {
        "id": "dJsJgj7ndmxY",
        "colab_type": "code",
        "colab": {}
      },
      "source": [
        "x_train = sequence.pad_sequences(x_train, maxlen=100)\n",
        "x_test = sequence.pad_sequences(x_test, maxlen=100)"
      ],
      "execution_count": 0,
      "outputs": []
    },
    {
      "cell_type": "code",
      "metadata": {
        "id": "YA7lK68neA4_",
        "colab_type": "code",
        "colab": {
          "base_uri": "https://localhost:8080/",
          "height": 34
        },
        "outputId": "f1a2751d-8c63-44fd-c88b-e0b02bcb633f"
      },
      "source": [
        "x_train.shape"
      ],
      "execution_count": 14,
      "outputs": [
        {
          "output_type": "execute_result",
          "data": {
            "text/plain": [
              "(25000, 100)"
            ]
          },
          "metadata": {
            "tags": []
          },
          "execution_count": 14
        }
      ]
    },
    {
      "cell_type": "code",
      "metadata": {
        "id": "DupBGAhieOeG",
        "colab_type": "code",
        "colab": {}
      },
      "source": [
        "###設計RNN"
      ],
      "execution_count": 0,
      "outputs": []
    },
    {
      "cell_type": "code",
      "metadata": {
        "id": "J7Qo_d49eROi",
        "colab_type": "code",
        "colab": {}
      },
      "source": [
        "from keras.models import Sequential\n",
        "from keras.layers import LSTM, Dense, Embedding"
      ],
      "execution_count": 0,
      "outputs": []
    },
    {
      "cell_type": "code",
      "metadata": {
        "id": "nXRg_xeBfyA-",
        "colab_type": "code",
        "colab": {}
      },
      "source": [
        "###建置RNN"
      ],
      "execution_count": 0,
      "outputs": []
    },
    {
      "cell_type": "code",
      "metadata": {
        "id": "aoG94cQAf2DQ",
        "colab_type": "code",
        "colab": {
          "base_uri": "https://localhost:8080/",
          "height": 71
        },
        "outputId": "102d7b3b-d238-47d6-9f68-4b9faa48197c"
      },
      "source": [
        "model = Sequential()"
      ],
      "execution_count": 18,
      "outputs": [
        {
          "output_type": "stream",
          "text": [
            "WARNING:tensorflow:From /usr/local/lib/python3.6/dist-packages/keras/backend/tensorflow_backend.py:66: The name tf.get_default_graph is deprecated. Please use tf.compat.v1.get_default_graph instead.\n",
            "\n"
          ],
          "name": "stdout"
        }
      ]
    },
    {
      "cell_type": "code",
      "metadata": {
        "id": "_oeGKib_f8B_",
        "colab_type": "code",
        "colab": {
          "base_uri": "https://localhost:8080/",
          "height": 105
        },
        "outputId": "f9d166e2-5770-4e50-a67d-bc70fc03f0c8"
      },
      "source": [
        "model.add(Embedding(10000,3))"
      ],
      "execution_count": 19,
      "outputs": [
        {
          "output_type": "stream",
          "text": [
            "WARNING:tensorflow:From /usr/local/lib/python3.6/dist-packages/keras/backend/tensorflow_backend.py:541: The name tf.placeholder is deprecated. Please use tf.compat.v1.placeholder instead.\n",
            "\n",
            "WARNING:tensorflow:From /usr/local/lib/python3.6/dist-packages/keras/backend/tensorflow_backend.py:4432: The name tf.random_uniform is deprecated. Please use tf.random.uniform instead.\n",
            "\n"
          ],
          "name": "stdout"
        }
      ]
    },
    {
      "cell_type": "code",
      "metadata": {
        "id": "MXyUnpkLgDcv",
        "colab_type": "code",
        "colab": {}
      },
      "source": [
        "model.add(LSTM(10))"
      ],
      "execution_count": 0,
      "outputs": []
    },
    {
      "cell_type": "code",
      "metadata": {
        "id": "RUIAeCMFgJ9P",
        "colab_type": "code",
        "colab": {}
      },
      "source": [
        "model.add(Dense(1, activation='sigmoid'))"
      ],
      "execution_count": 0,
      "outputs": []
    },
    {
      "cell_type": "code",
      "metadata": {
        "id": "AuAOG0EjghnM",
        "colab_type": "code",
        "colab": {}
      },
      "source": [
        "###組裝"
      ],
      "execution_count": 0,
      "outputs": []
    },
    {
      "cell_type": "code",
      "metadata": {
        "id": "U7Sm1mJAgkBU",
        "colab_type": "code",
        "colab": {
          "base_uri": "https://localhost:8080/",
          "height": 156
        },
        "outputId": "fd83a69f-9219-4281-c30c-4dd53f5bccb6"
      },
      "source": [
        "model.compile(loss='binary_crossentropy',\n",
        "              optimizer = 'adam',\n",
        "              metrics=['accuracy'])"
      ],
      "execution_count": 23,
      "outputs": [
        {
          "output_type": "stream",
          "text": [
            "WARNING:tensorflow:From /usr/local/lib/python3.6/dist-packages/keras/optimizers.py:793: The name tf.train.Optimizer is deprecated. Please use tf.compat.v1.train.Optimizer instead.\n",
            "\n",
            "WARNING:tensorflow:From /usr/local/lib/python3.6/dist-packages/keras/backend/tensorflow_backend.py:3657: The name tf.log is deprecated. Please use tf.math.log instead.\n",
            "\n",
            "WARNING:tensorflow:From /usr/local/lib/python3.6/dist-packages/tensorflow_core/python/ops/nn_impl.py:183: where (from tensorflow.python.ops.array_ops) is deprecated and will be removed in a future version.\n",
            "Instructions for updating:\n",
            "Use tf.where in 2.0, which has the same broadcast rule as np.where\n"
          ],
          "name": "stdout"
        }
      ]
    },
    {
      "cell_type": "code",
      "metadata": {
        "id": "r-CM-tV4hxtj",
        "colab_type": "code",
        "colab": {
          "base_uri": "https://localhost:8080/",
          "height": 255
        },
        "outputId": "58f2aa3c-2a94-4f6d-9ff5-bfa31d8ce591"
      },
      "source": [
        "model.summary()"
      ],
      "execution_count": 24,
      "outputs": [
        {
          "output_type": "stream",
          "text": [
            "Model: \"sequential_1\"\n",
            "_________________________________________________________________\n",
            "Layer (type)                 Output Shape              Param #   \n",
            "=================================================================\n",
            "embedding_1 (Embedding)      (None, None, 3)           30000     \n",
            "_________________________________________________________________\n",
            "lstm_1 (LSTM)                (None, 10)                560       \n",
            "_________________________________________________________________\n",
            "dense_1 (Dense)              (None, 1)                 11        \n",
            "=================================================================\n",
            "Total params: 30,571\n",
            "Trainable params: 30,571\n",
            "Non-trainable params: 0\n",
            "_________________________________________________________________\n"
          ],
          "name": "stdout"
        }
      ]
    },
    {
      "cell_type": "code",
      "metadata": {
        "id": "aFLMxFqoh0I7",
        "colab_type": "code",
        "colab": {
          "base_uri": "https://localhost:8080/",
          "height": 34
        },
        "outputId": "18d06d3c-b736-470e-8294-bbd64e54e65f"
      },
      "source": [
        "4*(13*10+10)"
      ],
      "execution_count": 26,
      "outputs": [
        {
          "output_type": "execute_result",
          "data": {
            "text/plain": [
              "560"
            ]
          },
          "metadata": {
            "tags": []
          },
          "execution_count": 26
        }
      ]
    },
    {
      "cell_type": "code",
      "metadata": {
        "id": "vGpUqBZpiORK",
        "colab_type": "code",
        "colab": {}
      },
      "source": [
        "###第二步 訓練～～"
      ],
      "execution_count": 0,
      "outputs": []
    },
    {
      "cell_type": "code",
      "metadata": {
        "id": "uT4XXNZ_iogZ",
        "colab_type": "code",
        "colab": {
          "base_uri": "https://localhost:8080/",
          "height": 612
        },
        "outputId": "41739e03-c890-40ca-e8ac-b73eefb40719"
      },
      "source": [
        "model.fit(x_train, y_train,\n",
        "          batch_size=32,\n",
        "          epochs=17)"
      ],
      "execution_count": 29,
      "outputs": [
        {
          "output_type": "stream",
          "text": [
            "Epoch 1/17\n",
            "25000/25000 [==============================] - 49s 2ms/step - loss: 0.5079 - acc: 0.7375\n",
            "Epoch 2/17\n",
            "25000/25000 [==============================] - 54s 2ms/step - loss: 0.3007 - acc: 0.8755\n",
            "Epoch 3/17\n",
            "25000/25000 [==============================] - 56s 2ms/step - loss: 0.2452 - acc: 0.9042\n",
            "Epoch 4/17\n",
            "25000/25000 [==============================] - 55s 2ms/step - loss: 0.2059 - acc: 0.9237\n",
            "Epoch 5/17\n",
            "25000/25000 [==============================] - 55s 2ms/step - loss: 0.1829 - acc: 0.9340\n",
            "Epoch 6/17\n",
            "25000/25000 [==============================] - 55s 2ms/step - loss: 0.1620 - acc: 0.9434\n",
            "Epoch 7/17\n",
            "25000/25000 [==============================] - 57s 2ms/step - loss: 0.1440 - acc: 0.9522\n",
            "Epoch 8/17\n",
            "25000/25000 [==============================] - 55s 2ms/step - loss: 0.1297 - acc: 0.9570\n",
            "Epoch 9/17\n",
            "25000/25000 [==============================] - 53s 2ms/step - loss: 0.1147 - acc: 0.9631\n",
            "Epoch 10/17\n",
            "25000/25000 [==============================] - 55s 2ms/step - loss: 0.1040 - acc: 0.9677\n",
            "Epoch 11/17\n",
            "25000/25000 [==============================] - 55s 2ms/step - loss: 0.0939 - acc: 0.9713\n",
            "Epoch 12/17\n",
            "25000/25000 [==============================] - 55s 2ms/step - loss: 0.0861 - acc: 0.9742\n",
            "Epoch 13/17\n",
            "25000/25000 [==============================] - 55s 2ms/step - loss: 0.0757 - acc: 0.9784\n",
            "Epoch 14/17\n",
            "25000/25000 [==============================] - 55s 2ms/step - loss: 0.0668 - acc: 0.9810\n",
            "Epoch 15/17\n",
            "25000/25000 [==============================] - 54s 2ms/step - loss: 0.0631 - acc: 0.9826\n",
            "Epoch 16/17\n",
            "25000/25000 [==============================] - 54s 2ms/step - loss: 0.0599 - acc: 0.9836\n",
            "Epoch 17/17\n",
            "25000/25000 [==============================] - 54s 2ms/step - loss: 0.0592 - acc: 0.9834\n"
          ],
          "name": "stdout"
        },
        {
          "output_type": "execute_result",
          "data": {
            "text/plain": [
              "<keras.callbacks.History at 0x7f35a9036320>"
            ]
          },
          "metadata": {
            "tags": []
          },
          "execution_count": 29
        }
      ]
    },
    {
      "cell_type": "code",
      "metadata": {
        "id": "0_AG_F-ei4go",
        "colab_type": "code",
        "colab": {}
      },
      "source": [
        "###測試資料"
      ],
      "execution_count": 0,
      "outputs": []
    },
    {
      "cell_type": "code",
      "metadata": {
        "id": "VKNg0frnnrIl",
        "colab_type": "code",
        "colab": {
          "base_uri": "https://localhost:8080/",
          "height": 34
        },
        "outputId": "59785871-1ffb-4e61-8986-40b8d6e41cd0"
      },
      "source": [
        "score = model.evaluate(x_test,y_test)"
      ],
      "execution_count": 31,
      "outputs": [
        {
          "output_type": "stream",
          "text": [
            "25000/25000 [==============================] - 6s 258us/step\n"
          ],
          "name": "stdout"
        }
      ]
    },
    {
      "cell_type": "code",
      "metadata": {
        "id": "Zf6XkVTCny02",
        "colab_type": "code",
        "colab": {
          "base_uri": "https://localhost:8080/",
          "height": 51
        },
        "outputId": "b8ceffb4-ef2d-4cf4-863f-d74384e1450f"
      },
      "source": [
        "print(f'loss= {score[0]}')\n",
        "print(f'正確率= {score[1]}')"
      ],
      "execution_count": 33,
      "outputs": [
        {
          "output_type": "stream",
          "text": [
            "loss= 0.9290711657714844\n",
            "正確率= 0.80056\n"
          ],
          "name": "stdout"
        }
      ]
    },
    {
      "cell_type": "code",
      "metadata": {
        "id": "vTkhPNcgoGhq",
        "colab_type": "code",
        "colab": {}
      },
      "source": [
        ""
      ],
      "execution_count": 0,
      "outputs": []
    }
  ]
}